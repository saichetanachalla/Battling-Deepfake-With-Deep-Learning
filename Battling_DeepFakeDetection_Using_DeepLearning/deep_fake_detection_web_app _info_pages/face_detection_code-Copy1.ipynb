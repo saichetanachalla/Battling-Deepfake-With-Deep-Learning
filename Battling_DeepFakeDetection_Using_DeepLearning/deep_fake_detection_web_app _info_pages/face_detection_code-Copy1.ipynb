{
 "cells": [
  {
   "cell_type": "code",
   "execution_count": 5,
   "id": "944c8694-69db-4fe5-9ecf-f786d29e019a",
   "metadata": {},
   "outputs": [
    {
     "name": "stdout",
     "output_type": "stream",
     "text": [
      "Collecting opencv-python\n",
      "  Downloading opencv_python-4.10.0.84-cp37-abi3-macosx_11_0_arm64.whl.metadata (20 kB)\n",
      "Requirement already satisfied: numpy>=1.21.2 in /opt/anaconda3/lib/python3.12/site-packages (from opencv-python) (1.26.4)\n",
      "Downloading opencv_python-4.10.0.84-cp37-abi3-macosx_11_0_arm64.whl (54.8 MB)\n",
      "\u001b[2K   \u001b[90m━━━━━━━━━━━━━━━━━━━━━━━━━━━━━━━━━━━━━━━━\u001b[0m \u001b[32m54.8/54.8 MB\u001b[0m \u001b[31m4.3 MB/s\u001b[0m eta \u001b[36m0:00:00\u001b[0m00:01\u001b[0m00:01\u001b[0m\n",
      "\u001b[?25hInstalling collected packages: opencv-python\n",
      "Successfully installed opencv-python-4.10.0.84\n",
      "Note: you may need to restart the kernel to use updated packages.\n"
     ]
    }
   ],
   "source": [
    "pip install opencv-python"
   ]
  },
  {
   "cell_type": "code",
   "execution_count": 7,
   "id": "07b76c8c",
   "metadata": {},
   "outputs": [],
   "source": [
    "import cv2\n",
    "import os\n",
    "\n",
    "# Initialize the face detector using Haar Cascade\n",
    "face_cascade = cv2.CascadeClassifier(cv2.data.haarcascades + 'haarcascade_frontalface_default.xml')\n",
    "\n",
    "# Function to extract frames and detect faces\n",
    "def process_video(video_path, save_dir, video_name, max_frames=10):\n",
    "    cap = cv2.VideoCapture(video_path)\n",
    "    frame_count = 0\n",
    "    saved_face_count = 0\n",
    "    video_basename = os.path.splitext(video_name)[0]  # Extract video name without extension\n",
    "    \n",
    "    while cap.isOpened() and saved_face_count < max_frames:\n",
    "        ret, frame = cap.read()\n",
    "        \n",
    "        if not ret:\n",
    "            break\n",
    "        \n",
    "        frame_count += 1\n",
    "        if frame_count % int(cap.get(cv2.CAP_PROP_FRAME_COUNT) // max_frames) == 0:\n",
    "            # Convert frame to grayscale for face detection\n",
    "            gray = cv2.cvtColor(frame, cv2.COLOR_BGR2GRAY)\n",
    "            \n",
    "            # Detect faces in the frame\n",
    "            faces = face_cascade.detectMultiScale(gray, scaleFactor=1.1, minNeighbors=5, minSize=(30, 30))\n",
    "            \n",
    "            for (x, y, w, h) in faces:\n",
    "                # Extract the face region from the frame\n",
    "                face = frame[y:y+h, x:x+w]\n",
    "                \n",
    "                # Resize the face to a standard size (optional)\n",
    "                face_resized = cv2.resize(face, (200, 200))\n",
    "                \n",
    "                # Save the face as a PNG image with a unique filename\n",
    "                save_path = os.path.join(save_dir, f\"{video_basename}_face_{saved_face_count + 1}.png\")\n",
    "                cv2.imwrite(save_path, face_resized)\n",
    "                saved_face_count += 1\n",
    "                \n",
    "                if saved_face_count >= max_frames:\n",
    "                    break\n",
    "    \n",
    "    cap.release()\n",
    "\n",
    "# Path to the dataset folder\n",
    "dataset_dir = \"dataset\"\n",
    "output_dir = \"output\"\n",
    "\n",
    "# Ensure output directory exists\n",
    "if not os.path.exists(output_dir):\n",
    "    os.makedirs(output_dir)\n",
    "\n",
    "# Loop through the classes (real and fake)\n",
    "for class_name in [\"real\", \"fake\"]:\n",
    "    class_dir = os.path.join(dataset_dir, class_name)\n",
    "    output_class_dir = os.path.join(output_dir, class_name)\n",
    "    \n",
    "    # Ensure output class folder exists\n",
    "    if not os.path.exists(output_class_dir):\n",
    "        os.makedirs(output_class_dir)\n",
    "    \n",
    "    # Process each video in the class folder\n",
    "    for video_name in os.listdir(class_dir):\n",
    "        if video_name.endswith(\".mp4\"):\n",
    "            video_path = os.path.join(class_dir, video_name)\n",
    "            process_video(video_path, output_class_dir, video_name)\n"
   ]
  },
  {
   "cell_type": "code",
   "execution_count": null,
   "id": "b31a5f22",
   "metadata": {},
   "outputs": [],
   "source": []
  }
 ],
 "metadata": {
  "kernelspec": {
   "display_name": "Python 3 (ipykernel)",
   "language": "python",
   "name": "python3"
  },
  "language_info": {
   "codemirror_mode": {
    "name": "ipython",
    "version": 3
   },
   "file_extension": ".py",
   "mimetype": "text/x-python",
   "name": "python",
   "nbconvert_exporter": "python",
   "pygments_lexer": "ipython3",
   "version": "3.12.7"
  }
 },
 "nbformat": 4,
 "nbformat_minor": 5
}
